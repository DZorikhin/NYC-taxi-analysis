{
 "cells": [
  {
   "cell_type": "markdown",
   "metadata": {},
   "source": [
    "# Question 1\n",
    "How does average trip duration in minutes change during the week?\n",
    "\n",
    "Download .csv files"
   ]
  },
  {
   "cell_type": "code",
   "execution_count": 1,
   "metadata": {},
   "outputs": [],
   "source": [
    "import pandas as pd\n",
    "\n",
    "df = pd.read_csv('yellow_tripdata_2018-06.csv')\n",
    "tm = pd.read_csv('taxi _zone_lookup.csv')"
   ]
  },
  {
   "cell_type": "markdown",
   "metadata": {},
   "source": [
    "Convert time to datetime format.\n",
    "<br>\n",
    "Add Years, Months and Hours columns to find outliers."
   ]
  },
  {
   "cell_type": "code",
   "execution_count": 2,
   "metadata": {},
   "outputs": [
    {
     "name": "stdout",
     "output_type": "stream",
     "text": [
      "   VendorID tpep_pickup_datetime tpep_dropoff_datetime  passenger_count  \\\n",
      "0         1  2018-06-01 00:15:40   2018-06-01 00:16:46                1   \n",
      "1         1  2018-06-01 00:04:18   2018-06-01 00:09:18                1   \n",
      "2         1  2018-06-01 00:14:39   2018-06-01 00:29:46                1   \n",
      "3         1  2018-06-01 00:51:25   2018-06-01 00:51:29                3   \n",
      "4         1  2018-06-01 00:55:06   2018-06-01 00:55:10                1   \n",
      "\n",
      "   trip_distance  RatecodeID store_and_fwd_flag  PULocationID  DOLocationID  \\\n",
      "0            0.0           1                  N           145           145   \n",
      "1            1.0           1                  N           230           161   \n",
      "2            3.3           1                  N           100           263   \n",
      "3            0.0           1                  N           145           145   \n",
      "4            0.0           1                  N           145           145   \n",
      "\n",
      "   payment_type  fare_amount  extra  mta_tax  tip_amount  tolls_amount  \\\n",
      "0             2          3.0    0.5      0.5        0.00           0.0   \n",
      "1             1          5.5    0.5      0.5        1.35           0.0   \n",
      "2             2         13.0    0.5      0.5        0.00           0.0   \n",
      "3             2          2.5    0.5      0.5        0.00           0.0   \n",
      "4             2          2.5    0.5      0.5        0.00           0.0   \n",
      "\n",
      "   improvement_surcharge  total_amount  Year  Month  Hour  \n",
      "0                    0.3          4.30  2018      6     0  \n",
      "1                    0.3          8.15  2018      6     0  \n",
      "2                    0.3         14.30  2018      6     0  \n",
      "3                    0.3          3.80  2018      6     0  \n",
      "4                    0.3          3.80  2018      6     0  \n",
      "<class 'pandas.core.frame.DataFrame'>\n",
      "RangeIndex: 8713831 entries, 0 to 8713830\n",
      "Data columns (total 20 columns):\n",
      "VendorID                 int64\n",
      "tpep_pickup_datetime     datetime64[ns]\n",
      "tpep_dropoff_datetime    datetime64[ns]\n",
      "passenger_count          int64\n",
      "trip_distance            float64\n",
      "RatecodeID               int64\n",
      "store_and_fwd_flag       object\n",
      "PULocationID             int64\n",
      "DOLocationID             int64\n",
      "payment_type             int64\n",
      "fare_amount              float64\n",
      "extra                    float64\n",
      "mta_tax                  float64\n",
      "tip_amount               float64\n",
      "tolls_amount             float64\n",
      "improvement_surcharge    float64\n",
      "total_amount             float64\n",
      "Year                     int64\n",
      "Month                    int64\n",
      "Hour                     int64\n",
      "dtypes: datetime64[ns](2), float64(8), int64(9), object(1)\n",
      "memory usage: 1.3+ GB\n",
      "None\n"
     ]
    }
   ],
   "source": [
    "df.tpep_pickup_datetime = pd.to_datetime(df.tpep_pickup_datetime)\n",
    "df.tpep_dropoff_datetime = pd.to_datetime(df.tpep_dropoff_datetime)\n",
    "Year = lambda row: int(row.tpep_pickup_datetime.strftime('%Y'))\n",
    "Month = lambda row: int(row.tpep_pickup_datetime.strftime('%m'))\n",
    "Hour = lambda row: int(row.tpep_pickup_datetime.strftime('%H'))\n",
    "df['Year'] = df.apply(Year, axis = 1)\n",
    "df['Month'] = df.apply(Month, axis = 1)\n",
    "df['Hour'] = df.apply(Hour, axis = 1)\n",
    "print(df.head())\n",
    "print(df.info())"
   ]
  },
  {
   "cell_type": "markdown",
   "metadata": {},
   "source": [
    "Group by Years and Months to find out outliers."
   ]
  },
  {
   "cell_type": "code",
   "execution_count": 3,
   "metadata": {},
   "outputs": [
    {
     "name": "stdout",
     "output_type": "stream",
     "text": [
      "   Year  total_amount\n",
      "0  2002      3.300000\n",
      "1  2008     15.759500\n",
      "2  2009     24.803636\n",
      "3  2018     16.660194\n",
      "4  2019     12.480000\n",
      "    Month  total_amount\n",
      "0       1     22.395556\n",
      "1       2      8.875714\n",
      "2       3     12.025000\n",
      "3       4      9.306000\n",
      "4       5     17.307059\n",
      "5       6     16.660220\n",
      "6       7     15.670221\n",
      "7       8     13.882222\n",
      "8       9     13.630588\n",
      "9      10     10.031429\n",
      "10     11     10.566923\n",
      "11     12     13.935926\n"
     ]
    }
   ],
   "source": [
    "average_year = df.groupby('Year').total_amount.mean().reset_index()\n",
    "print(average_year)\n",
    "average_months = df.groupby('Month').total_amount.mean().reset_index()\n",
    "print(average_months)"
   ]
  },
  {
   "cell_type": "markdown",
   "metadata": {},
   "source": [
    " Only year 2018 and month 6 must remain in the dataframe. Remove irrelevant years and months from dataframe."
   ]
  },
  {
   "cell_type": "code",
   "execution_count": 4,
   "metadata": {},
   "outputs": [
    {
     "name": "stdout",
     "output_type": "stream",
     "text": [
      "   VendorID tpep_pickup_datetime tpep_dropoff_datetime  passenger_count  \\\n",
      "0         1  2018-06-01 00:15:40   2018-06-01 00:16:46                1   \n",
      "1         1  2018-06-01 00:04:18   2018-06-01 00:09:18                1   \n",
      "2         1  2018-06-01 00:14:39   2018-06-01 00:29:46                1   \n",
      "3         1  2018-06-01 00:51:25   2018-06-01 00:51:29                3   \n",
      "4         1  2018-06-01 00:55:06   2018-06-01 00:55:10                1   \n",
      "\n",
      "   trip_distance  RatecodeID store_and_fwd_flag  PULocationID  DOLocationID  \\\n",
      "0            0.0           1                  N           145           145   \n",
      "1            1.0           1                  N           230           161   \n",
      "2            3.3           1                  N           100           263   \n",
      "3            0.0           1                  N           145           145   \n",
      "4            0.0           1                  N           145           145   \n",
      "\n",
      "   payment_type  fare_amount  extra  mta_tax  tip_amount  tolls_amount  \\\n",
      "0             2          3.0    0.5      0.5        0.00           0.0   \n",
      "1             1          5.5    0.5      0.5        1.35           0.0   \n",
      "2             2         13.0    0.5      0.5        0.00           0.0   \n",
      "3             2          2.5    0.5      0.5        0.00           0.0   \n",
      "4             2          2.5    0.5      0.5        0.00           0.0   \n",
      "\n",
      "   improvement_surcharge  total_amount  Year  Month  Hour  \n",
      "0                    0.3          4.30  2018      6     0  \n",
      "1                    0.3          8.15  2018      6     0  \n",
      "2                    0.3         14.30  2018      6     0  \n",
      "3                    0.3          3.80  2018      6     0  \n",
      "4                    0.3          3.80  2018      6     0  \n",
      "<class 'pandas.core.frame.DataFrame'>\n",
      "RangeIndex: 8713307 entries, 0 to 8713306\n",
      "Data columns (total 20 columns):\n",
      "VendorID                 int64\n",
      "tpep_pickup_datetime     datetime64[ns]\n",
      "tpep_dropoff_datetime    datetime64[ns]\n",
      "passenger_count          int64\n",
      "trip_distance            float64\n",
      "RatecodeID               int64\n",
      "store_and_fwd_flag       object\n",
      "PULocationID             int64\n",
      "DOLocationID             int64\n",
      "payment_type             int64\n",
      "fare_amount              float64\n",
      "extra                    float64\n",
      "mta_tax                  float64\n",
      "tip_amount               float64\n",
      "tolls_amount             float64\n",
      "improvement_surcharge    float64\n",
      "total_amount             float64\n",
      "Year                     int64\n",
      "Month                    int64\n",
      "Hour                     int64\n",
      "dtypes: datetime64[ns](2), float64(8), int64(9), object(1)\n",
      "memory usage: 1.3+ GB\n",
      "None\n"
     ]
    }
   ],
   "source": [
    "clean_df4 = df[(df.Year == 2018) & (df.Month == 6)]\n",
    "clean_df3 = clean_df4.reset_index(drop=True)\n",
    "print(clean_df3.head())\n",
    "print(clean_df3.info())"
   ]
  },
  {
   "cell_type": "markdown",
   "metadata": {},
   "source": [
    "Add columns diff_time, minutes_trip and weekday to the dataframe."
   ]
  },
  {
   "cell_type": "code",
   "execution_count": 5,
   "metadata": {},
   "outputs": [
    {
     "name": "stdout",
     "output_type": "stream",
     "text": [
      "         VendorID tpep_pickup_datetime tpep_dropoff_datetime  passenger_count  \\\n",
      "8713297         2  2018-06-30 22:59:16   2018-06-30 23:13:46                3   \n",
      "8713298         2  2018-06-30 23:36:14   2018-06-30 23:40:03                4   \n",
      "8713299         2  2018-06-30 23:41:17   2018-07-01 00:00:36                3   \n",
      "8713300         2  2018-06-30 23:18:21   2018-06-30 23:30:27                1   \n",
      "8713301         2  2018-06-30 23:45:36   2018-07-01 00:02:02                1   \n",
      "8713302         2  2018-06-30 23:09:48   2018-06-30 23:21:09                1   \n",
      "8713303         1  2018-06-30 23:39:24   2018-06-30 23:45:02                3   \n",
      "8713304         2  2018-06-30 23:24:13   2018-06-30 23:34:31                2   \n",
      "8713305         2  2018-06-30 23:46:15   2018-06-30 23:57:42                1   \n",
      "8713306         2  2018-06-30 23:43:59   2018-06-30 23:43:59                1   \n",
      "\n",
      "         trip_distance  RatecodeID store_and_fwd_flag  PULocationID  \\\n",
      "8713297           2.46           1                  N           114   \n",
      "8713298           0.89           1                  N            48   \n",
      "8713299           2.43           1                  N           163   \n",
      "8713300           3.13           1                  N            74   \n",
      "8713301           3.41           1                  N            74   \n",
      "8713302           5.00           1                  N           138   \n",
      "8713303           0.70           1                  N           230   \n",
      "8713304           1.88           1                  N           166   \n",
      "8713305           2.40           1                  N           142   \n",
      "8713306           0.00           1                  N           264   \n",
      "\n",
      "         DOLocationID  payment_type   ...     tip_amount  tolls_amount  \\\n",
      "8713297           233             1   ...           2.56           0.0   \n",
      "8713298           163             2   ...           0.00           0.0   \n",
      "8713299           113             1   ...           3.70           0.0   \n",
      "8713300           126             2   ...           0.00           0.0   \n",
      "8713301           147             2   ...           0.00           0.0   \n",
      "8713302            92             2   ...           0.00           0.0   \n",
      "8713303           230             2   ...           0.00           0.0   \n",
      "8713304           239             2   ...           0.00           0.0   \n",
      "8713305            68             2   ...           0.00           0.0   \n",
      "8713306             7             1   ...           0.00           0.0   \n",
      "\n",
      "         improvement_surcharge  total_amount  Year  Month  Hour  diff_time  \\\n",
      "8713297                    0.3         15.36  2018      6    22   00:14:30   \n",
      "8713298                    0.3          6.30  2018      6    23   00:03:49   \n",
      "8713299                    0.3         18.50  2018      6    23   00:19:19   \n",
      "8713300                    0.3         13.80  2018      6    23   00:12:06   \n",
      "8713301                    0.3         15.30  2018      6    23   00:16:26   \n",
      "8713302                    0.3         17.30  2018      6    23   00:11:21   \n",
      "8713303                    0.3          6.80  2018      6    23   00:05:38   \n",
      "8713304                    0.3         10.80  2018      6    23   00:10:18   \n",
      "8713305                    0.3         11.80  2018      6    23   00:11:27   \n",
      "8713306                    0.0          0.00  2018      6    23   00:00:00   \n",
      "\n",
      "         minutes_trip  weekday  \n",
      "8713297            14        5  \n",
      "8713298             3        5  \n",
      "8713299            19        6  \n",
      "8713300            12        5  \n",
      "8713301            16        6  \n",
      "8713302            11        5  \n",
      "8713303             5        5  \n",
      "8713304            10        5  \n",
      "8713305            11        5  \n",
      "8713306             0        5  \n",
      "\n",
      "[10 rows x 23 columns]\n"
     ]
    }
   ],
   "source": [
    "diff_time = lambda row: row.tpep_dropoff_datetime - row.tpep_pickup_datetime\n",
    "minutes_trip = lambda row: int(row.diff_time.total_seconds() / 60)\n",
    "clean_df3['diff_time'] = clean_df3.apply(diff_time, axis = 1)\n",
    "clean_df3['minutes_trip'] = clean_df3.apply(minutes_trip, axis = 1)\n",
    "clean_df3['weekday'] = clean_df3['tpep_dropoff_datetime'].dt.weekday\n",
    "print(clean_df3.tail(10))"
   ]
  },
  {
   "cell_type": "markdown",
   "metadata": {},
   "source": [
    "Remove trip_distance = 0 and minutes_trip = 0 from dataframe."
   ]
  },
  {
   "cell_type": "code",
   "execution_count": 6,
   "metadata": {
    "scrolled": true
   },
   "outputs": [
    {
     "name": "stdout",
     "output_type": "stream",
     "text": [
      "   VendorID tpep_pickup_datetime tpep_dropoff_datetime  passenger_count  \\\n",
      "0         1  2018-06-01 00:04:18   2018-06-01 00:09:18                1   \n",
      "1         1  2018-06-01 00:14:39   2018-06-01 00:29:46                1   \n",
      "2         1  2018-06-01 00:09:00   2018-06-01 00:24:01                1   \n",
      "3         1  2018-06-01 00:02:33   2018-06-01 00:13:01                2   \n",
      "4         1  2018-06-01 00:13:23   2018-06-01 00:16:52                1   \n",
      "5         1  2018-06-01 00:24:29   2018-06-01 01:08:43                1   \n",
      "6         2  2018-06-01 00:17:01   2018-06-01 00:23:16                1   \n",
      "7         2  2018-06-01 00:25:17   2018-06-01 00:47:24                1   \n",
      "8         1  2018-06-01 00:39:42   2018-06-01 00:57:23                1   \n",
      "9         1  2018-06-01 00:25:43   2018-06-01 00:40:07                1   \n",
      "\n",
      "   trip_distance  RatecodeID store_and_fwd_flag  PULocationID  DOLocationID  \\\n",
      "0           1.00           1                  N           230           161   \n",
      "1           3.30           1                  N           100           263   \n",
      "2           2.00           1                  N           161           234   \n",
      "3           1.50           1                  N           163           233   \n",
      "4           0.70           1                  N           186           246   \n",
      "5           5.70           1                  N           230           179   \n",
      "6           0.85           1                  N           179           223   \n",
      "7           6.25           1                  N           223           186   \n",
      "8           3.50           1                  N           141           179   \n",
      "9           3.00           1                  N           138             7   \n",
      "\n",
      "   payment_type   ...     tip_amount  tolls_amount  improvement_surcharge  \\\n",
      "0             1   ...           1.35           0.0                    0.3   \n",
      "1             2   ...           0.00           0.0                    0.3   \n",
      "2             1   ...           2.55           0.0                    0.3   \n",
      "3             1   ...           1.95           0.0                    0.3   \n",
      "4             1   ...           1.85           0.0                    0.3   \n",
      "5             2   ...           0.00           0.0                    0.3   \n",
      "6             2   ...           0.00           0.0                    0.3   \n",
      "7             1   ...           0.00           0.0                    0.3   \n",
      "8             1   ...           2.95           0.0                    0.3   \n",
      "9             1   ...           3.45           0.0                    0.3   \n",
      "\n",
      "   total_amount  Year  Month  Hour  diff_time  minutes_trip  weekday  \n",
      "0          8.15  2018      6     0   00:05:00             5        4  \n",
      "1         14.30  2018      6     0   00:15:07            15        4  \n",
      "2         15.35  2018      6     0   00:15:01            15        4  \n",
      "3         11.75  2018      6     0   00:10:28            10        4  \n",
      "4          8.15  2018      6     0   00:03:29             3        4  \n",
      "5         23.30  2018      6     0   00:44:14            44        4  \n",
      "6          7.30  2018      6     0   00:06:15             6        4  \n",
      "7         22.30  2018      6     0   00:22:07            22        4  \n",
      "8         17.75  2018      6     0   00:17:41            17        4  \n",
      "9         17.25  2018      6     0   00:14:24            14        4  \n",
      "\n",
      "[10 rows x 23 columns]\n",
      "<class 'pandas.core.frame.DataFrame'>\n",
      "RangeIndex: 8621739 entries, 0 to 8621738\n",
      "Data columns (total 23 columns):\n",
      "VendorID                 int64\n",
      "tpep_pickup_datetime     datetime64[ns]\n",
      "tpep_dropoff_datetime    datetime64[ns]\n",
      "passenger_count          int64\n",
      "trip_distance            float64\n",
      "RatecodeID               int64\n",
      "store_and_fwd_flag       object\n",
      "PULocationID             int64\n",
      "DOLocationID             int64\n",
      "payment_type             int64\n",
      "fare_amount              float64\n",
      "extra                    float64\n",
      "mta_tax                  float64\n",
      "tip_amount               float64\n",
      "tolls_amount             float64\n",
      "improvement_surcharge    float64\n",
      "total_amount             float64\n",
      "Year                     int64\n",
      "Month                    int64\n",
      "Hour                     int64\n",
      "diff_time                timedelta64[ns]\n",
      "minutes_trip             int64\n",
      "weekday                  int64\n",
      "dtypes: datetime64[ns](2), float64(8), int64(11), object(1), timedelta64[ns](1)\n",
      "memory usage: 1.5+ GB\n",
      "None\n"
     ]
    }
   ],
   "source": [
    "clean_df2 = clean_df3[(clean_df3.trip_distance != 0) & (clean_df3.minutes_trip != 0)]\n",
    "clean_df = clean_df2.reset_index(drop=True)\n",
    "print(clean_df.head(10))\n",
    "print(clean_df.info())"
   ]
  },
  {
   "cell_type": "markdown",
   "metadata": {},
   "source": [
    "Calculate average trip duration in minutes change during the week."
   ]
  },
  {
   "cell_type": "code",
   "execution_count": 7,
   "metadata": {
    "scrolled": true
   },
   "outputs": [
    {
     "name": "stdout",
     "output_type": "stream",
     "text": [
      "   weekday  minutes_trip\n",
      "0        0     16.981738\n",
      "1        1     16.981777\n",
      "2        2     17.498484\n",
      "3        3     18.461866\n",
      "4        4     17.225612\n",
      "5        5     16.069444\n",
      "6        6     18.161233\n"
     ]
    }
   ],
   "source": [
    "average_trip = clean_df.groupby('weekday').minutes_trip.mean().reset_index()\n",
    "print(average_trip)"
   ]
  },
  {
   "cell_type": "markdown",
   "metadata": {},
   "source": [
    "Plot graph to visualize data."
   ]
  },
  {
   "cell_type": "code",
   "execution_count": 9,
   "metadata": {
    "scrolled": true
   },
   "outputs": [
    {
     "name": "stderr",
     "output_type": "stream",
     "text": [
      "B:\\Programmes\\Anaconda\\lib\\site-packages\\matplotlib\\figure.py:98: MatplotlibDeprecationWarning: \n",
      "Adding an axes using the same arguments as a previous axes currently reuses the earlier instance.  In a future version, a new instance will always be created and returned.  Meanwhile, this warning can be suppressed, and the future behavior ensured, by passing a unique label to each axes instance.\n",
      "  \"Adding an axes using the same arguments as a previous axes \"\n"
     ]
    },
    {
     "data": {
      "image/png": "[encoded data removed]",
      "text/plain": [
       "<Figure size 720x576 with 1 Axes>"
      ]
     },
     "metadata": {
      "needs_background": "light"
     },
     "output_type": "display_data"
    }
   ],
   "source": [
    "import seaborn as sns\n",
    "from matplotlib import pyplot as plt\n",
    "\n",
    "weekdays = ['Mon', 'Tue', 'Wed', 'Thu', 'Fri', 'Sat', 'Sun']\n",
    "\n",
    "plt.figure(figsize=(10,8))\n",
    "\n",
    "sns.barplot(data=average_trip, x='weekday', y='minutes_trip')\n",
    "ax = plt.subplot()\n",
    "plt.axis([-0.5, 6.5, 15, 19])\n",
    "ax.set_xticks(range(len(weekdays)))\n",
    "ax.set_xticklabels(weekdays)\n",
    "plt.xlabel('Weekday')\n",
    "plt.ylabel('Average Minutes')\n",
    "plt.title('Average Trip Duration Change During The Week (June 2018)')\n",
    "plt.savefig('Question1.png')\n",
    "\n",
    "plt.show()"
   ]
  },
  {
   "cell_type": "markdown",
   "metadata": {},
   "source": [
    "# Question 2\n",
    "Take only the trips between different boroughs. Which pair of different boroughs results in the\n",
    "highest average trip fare?\n",
    "\n",
    "Merge two .csv files to match Location ID and boroughs."
   ]
  },
  {
   "cell_type": "code",
   "execution_count": 10,
   "metadata": {},
   "outputs": [
    {
     "name": "stdout",
     "output_type": "stream",
     "text": [
      "         VendorID tpep_pickup_datetime tpep_dropoff_datetime  passenger_count  \\\n",
      "8621729         2  2018-06-10 20:13:42   2018-06-10 20:44:43                6   \n",
      "8621730         1  2018-06-10 11:36:38   2018-06-10 11:45:24                1   \n",
      "8621731         2  2018-06-15 01:00:03   2018-06-15 01:54:34                1   \n",
      "8621732         2  2018-06-20 21:12:03   2018-06-20 21:26:12                1   \n",
      "8621733         1  2018-06-28 11:35:58   2018-06-28 11:46:39                1   \n",
      "8621734         2  2018-06-10 17:05:03   2018-06-10 17:28:32                5   \n",
      "8621735         2  2018-06-20 20:59:04   2018-06-20 21:09:47                1   \n",
      "8621736         2  2018-06-27 14:12:08   2018-06-27 14:16:26                1   \n",
      "8621737         1  2018-06-25 02:43:01   2018-06-25 02:46:00                1   \n",
      "8621738         1  2018-06-25 02:46:45   2018-06-25 02:47:56                1   \n",
      "\n",
      "         trip_distance  RatecodeID store_and_fwd_flag  PULocationID  \\\n",
      "8621729          16.88           1                  N           187   \n",
      "8621730           4.70           1                  N           251   \n",
      "8621731           2.31           1                  N           251   \n",
      "8621732           1.88           1                  N           251   \n",
      "8621733           3.40           1                  N           251   \n",
      "8621734           7.27           1                  N            59   \n",
      "8621735           2.01           1                  N            59   \n",
      "8621736           0.76           5                  N            59   \n",
      "8621737          24.70           5                  N           204   \n",
      "8621738          24.70           5                  N           204   \n",
      "\n",
      "         DOLocationID  payment_type      ...       Year  Month  Hour  \\\n",
      "8621729           181             1      ...       2018      6    20   \n",
      "8621730            23             2      ...       2018      6    11   \n",
      "8621731            23             2      ...       2018      6     1   \n",
      "8621732           230             1      ...       2018      6    21   \n",
      "8621733           118             2      ...       2018      6    11   \n",
      "8621734            41             1      ...       2018      6    17   \n",
      "8621735           248             2      ...       2018      6    20   \n",
      "8621736            60             2      ...       2018      6    14   \n",
      "8621737           204             3      ...       2018      6     2   \n",
      "8621738           204             1      ...       2018      6     2   \n",
      "\n",
      "         diff_time  minutes_trip  weekday  PULocationID      BoroughPU  \\\n",
      "8621729   00:31:01            31        6           187  Staten Island   \n",
      "8621730   00:08:46             8        6           251  Staten Island   \n",
      "8621731   00:54:31            54        4           251  Staten Island   \n",
      "8621732   00:14:09            14        2           251  Staten Island   \n",
      "8621733   00:10:41            10        3           251  Staten Island   \n",
      "8621734   00:23:29            23        6            59          Bronx   \n",
      "8621735   00:10:43            10        2            59          Bronx   \n",
      "8621736   00:04:18             4        2            59          Bronx   \n",
      "8621737   00:02:59             2        0           204  Staten Island   \n",
      "8621738   00:01:11             1        0           204  Staten Island   \n",
      "\n",
      "                      Zone  service_zone  \n",
      "8621729      Port Richmond     Boro Zone  \n",
      "8621730        Westerleigh     Boro Zone  \n",
      "8621731        Westerleigh     Boro Zone  \n",
      "8621732        Westerleigh     Boro Zone  \n",
      "8621733        Westerleigh     Boro Zone  \n",
      "8621734       Crotona Park     Boro Zone  \n",
      "8621735       Crotona Park     Boro Zone  \n",
      "8621736       Crotona Park     Boro Zone  \n",
      "8621737  Rossville/Woodrow     Boro Zone  \n",
      "8621738  Rossville/Woodrow     Boro Zone  \n",
      "\n",
      "[10 rows x 27 columns]\n",
      "   VendorID tpep_pickup_datetime tpep_dropoff_datetime  passenger_count  \\\n",
      "0         1  2018-06-01 00:04:18   2018-06-01 00:09:18                1   \n",
      "1         1  2018-06-01 00:08:30   2018-06-01 00:12:13                2   \n",
      "2         2  2018-06-01 00:38:07   2018-06-01 00:45:11                1   \n",
      "3         2  2018-06-01 00:24:13   2018-06-01 00:28:31                1   \n",
      "4         2  2018-06-01 00:23:59   2018-06-01 00:28:36                1   \n",
      "\n",
      "   trip_distance  RatecodeID store_and_fwd_flag  PULocationID  DOLocationID  \\\n",
      "0           1.00           1                  N           230           161   \n",
      "1           0.30           1                  N           230           161   \n",
      "2           1.16           1                  N           230           161   \n",
      "3           0.94           1                  N           230           161   \n",
      "4           0.50           1                  N           230           161   \n",
      "\n",
      "   payment_type    ...      Year  Month  Hour  diff_time  minutes_trip  \\\n",
      "0             1    ...      2018      6     0   00:05:00             5   \n",
      "1             2    ...      2018      6     0   00:03:43             3   \n",
      "2             2    ...      2018      6     0   00:07:04             7   \n",
      "3             1    ...      2018      6     0   00:04:18             4   \n",
      "4             2    ...      2018      6     0   00:04:37             4   \n",
      "\n",
      "   weekday  PULocationID  BoroughPU  DOLocationID  BoroughDO  \n",
      "0        4           230  Manhattan           161  Manhattan  \n",
      "1        4           230  Manhattan           161  Manhattan  \n",
      "2        4           230  Manhattan           161  Manhattan  \n",
      "3        4           230  Manhattan           161  Manhattan  \n",
      "4        4           230  Manhattan           161  Manhattan  \n",
      "\n",
      "[5 rows x 27 columns]\n",
      "<class 'pandas.core.frame.DataFrame'>\n",
      "Int64Index: 8621739 entries, 0 to 8621738\n",
      "Data columns (total 27 columns):\n",
      "VendorID                 int64\n",
      "tpep_pickup_datetime     datetime64[ns]\n",
      "tpep_dropoff_datetime    datetime64[ns]\n",
      "passenger_count          int64\n",
      "trip_distance            float64\n",
      "RatecodeID               int64\n",
      "store_and_fwd_flag       object\n",
      "PULocationID             int64\n",
      "DOLocationID             int64\n",
      "payment_type             int64\n",
      "fare_amount              float64\n",
      "extra                    float64\n",
      "mta_tax                  float64\n",
      "tip_amount               float64\n",
      "tolls_amount             float64\n",
      "improvement_surcharge    float64\n",
      "total_amount             float64\n",
      "Year                     int64\n",
      "Month                    int64\n",
      "Hour                     int64\n",
      "diff_time                timedelta64[ns]\n",
      "minutes_trip             int64\n",
      "weekday                  int64\n",
      "PULocationID             int64\n",
      "BoroughPU                object\n",
      "DOLocationID             int64\n",
      "BoroughDO                object\n",
      "dtypes: datetime64[ns](2), float64(8), int64(13), object(3), timedelta64[ns](1)\n",
      "memory usage: 1.8+ GB\n",
      "None\n"
     ]
    }
   ],
   "source": [
    "PUboroughs = pd.merge(\n",
    "        clean_df,\n",
    "        tm,\n",
    "        left_on = 'PULocationID',\n",
    "        right_on = 'LocationID',\n",
    "        )\n",
    "PUboroughs.rename(columns={'LocationID': 'PULocationID',\n",
    "                          'Borough' : 'BoroughPU'}, inplace=True)\n",
    "print(PUboroughs.tail(10))\n",
    "combined_df = pd.merge(\n",
    "        PUboroughs,\n",
    "        tm,\n",
    "        left_on = 'DOLocationID',\n",
    "        right_on = 'LocationID',\n",
    "        )\n",
    "combined_df.rename(columns={'LocationID': 'DOLocationID',\n",
    "                          'Borough' : 'BoroughDO'}, inplace=True)\n",
    "combined_df = combined_df.drop(['Zone_x', 'service_zone_x', 'Zone_y', 'service_zone_y'], axis=1)\n",
    "print(combined_df.head())\n",
    "print(combined_df.info())"
   ]
  },
  {
   "cell_type": "markdown",
   "metadata": {},
   "source": [
    "Different boroughs dataframe called \"db_combined_df\""
   ]
  },
  {
   "cell_type": "code",
   "execution_count": 11,
   "metadata": {},
   "outputs": [
    {
     "name": "stdout",
     "output_type": "stream",
     "text": [
      "        BoroughPU      BoroughDO  total_amount\n",
      "0           Bronx       Brooklyn     64.914632\n",
      "1           Bronx            EWR    119.714000\n",
      "2           Bronx      Manhattan     26.770413\n",
      "3           Bronx         Queens     48.342028\n",
      "4           Bronx  Staten Island    100.493333\n",
      "5           Bronx        Unknown     68.661868\n",
      "6        Brooklyn          Bronx     60.540225\n",
      "7        Brooklyn            EWR    100.975577\n",
      "8        Brooklyn      Manhattan     24.936864\n",
      "9        Brooklyn         Queens     33.075368\n",
      "10       Brooklyn  Staten Island     58.482561\n",
      "11       Brooklyn        Unknown     83.001336\n",
      "12            EWR       Brooklyn    112.577500\n",
      "13            EWR      Manhattan     95.623571\n",
      "14            EWR         Queens    109.995000\n",
      "15            EWR  Staten Island     77.800000\n",
      "16            EWR        Unknown     53.369167\n",
      "17      Manhattan          Bronx     32.475894\n",
      "18      Manhattan       Brooklyn     28.367075\n",
      "19      Manhattan            EWR     98.231671\n",
      "20      Manhattan         Queens     43.256177\n",
      "21      Manhattan  Staten Island     80.667325\n",
      "22      Manhattan        Unknown     61.898572\n",
      "23         Queens          Bronx     54.495862\n",
      "24         Queens       Brooklyn     46.665409\n",
      "25         Queens            EWR    147.359086\n",
      "26         Queens      Manhattan     52.789461\n",
      "27         Queens  Staten Island     92.327414\n",
      "28         Queens        Unknown     96.407006\n",
      "29  Staten Island          Bronx     93.712000\n",
      "30  Staten Island       Brooklyn     44.630909\n",
      "31  Staten Island            EWR    110.366667\n",
      "32  Staten Island      Manhattan     74.595714\n",
      "33  Staten Island         Queens    183.730000\n",
      "34  Staten Island        Unknown    177.940000\n",
      "35        Unknown          Bronx     37.091681\n",
      "36        Unknown       Brooklyn     30.765000\n",
      "37        Unknown            EWR     96.935340\n",
      "38        Unknown      Manhattan     14.391738\n",
      "39        Unknown         Queens     38.928030\n",
      "40        Unknown  Staten Island     98.292000\n",
      "BoroughPU       Staten Island\n",
      "BoroughDO              Queens\n",
      "total_amount           183.73\n",
      "Name: 33, dtype: object\n"
     ]
    }
   ],
   "source": [
    "db_combined_df1 = combined_df[(combined_df.BoroughPU != combined_df.BoroughDO)]\n",
    "db_combined_df = db_combined_df1.reset_index(drop=True)\n",
    "diff_boroughs_stat = db_combined_df.groupby(['BoroughPU', 'BoroughDO']).total_amount.mean().reset_index()\n",
    "diff_boroughs_stat_max = diff_boroughs_stat.loc[diff_boroughs_stat['total_amount'].idxmax()]\n",
    "print(diff_boroughs_stat)\n",
    "print(diff_boroughs_stat_max)"
   ]
  },
  {
   "cell_type": "markdown",
   "metadata": {},
   "source": [
    "# Question 3\n",
    "Drivers are unsatisfied with fares from Manhattan during evening peak hours on working days.\n",
    "Management team wants to introduce subsidies (dollars per ride) in such hours. Identify which hours\n",
    "are most likely the problem ones and estimate possible value of X considering monthly budget of\n",
    "$6mln."
   ]
  },
  {
   "cell_type": "markdown",
   "metadata": {},
   "source": [
    "To identify rush hours in the evening (assumption that extra of 1.0 dollar is for rush hour)."
   ]
  },
  {
   "cell_type": "code",
   "execution_count": 12,
   "metadata": {},
   "outputs": [
    {
     "name": "stdout",
     "output_type": "stream",
     "text": [
      "   VendorID tpep_pickup_datetime tpep_dropoff_datetime  passenger_count  \\\n",
      "0         1  2018-06-01 15:49:06   2018-06-01 15:53:08                1   \n",
      "1         1  2018-06-01 15:54:51   2018-06-01 16:03:38                1   \n",
      "2         1  2018-06-01 15:53:44   2018-06-01 16:04:58                2   \n",
      "3         1  2018-06-01 15:55:25   2018-06-01 16:10:44                1   \n",
      "4         1  2018-06-01 15:54:48   2018-06-01 16:11:20                1   \n",
      "\n",
      "   trip_distance  RatecodeID store_and_fwd_flag  PULocationID  DOLocationID  \\\n",
      "0            0.4           1                  N           230           230   \n",
      "1            0.8           1                  N           230           162   \n",
      "2            1.5           1                  N           230           237   \n",
      "3            2.5           1                  N           230           151   \n",
      "4            2.3           1                  N           230           238   \n",
      "\n",
      "   payment_type    ...      tolls_amount  improvement_surcharge  total_amount  \\\n",
      "0             2    ...               0.0                    0.3          6.30   \n",
      "1             1    ...               0.0                    0.3         10.55   \n",
      "2             2    ...               0.0                    0.3         10.80   \n",
      "3             1    ...               0.0                    0.3         15.87   \n",
      "4             1    ...               0.0                    0.3         17.15   \n",
      "\n",
      "   Year  Month  Hour  minutes_trip  weekday  PULocationID  BoroughPU  \n",
      "0  2018      6    15             4        4           230  Manhattan  \n",
      "1  2018      6    15             8        4           230  Manhattan  \n",
      "2  2018      6    15            11        4           230  Manhattan  \n",
      "3  2018      6    15            15        4           230  Manhattan  \n",
      "4  2018      6    15            16        4           230  Manhattan  \n",
      "\n",
      "[5 rows x 24 columns]\n",
      "<class 'pandas.core.frame.DataFrame'>\n",
      "RangeIndex: 1387974 entries, 0 to 1387973\n",
      "Data columns (total 24 columns):\n",
      "VendorID                 1387974 non-null int64\n",
      "tpep_pickup_datetime     1387974 non-null datetime64[ns]\n",
      "tpep_dropoff_datetime    1387974 non-null datetime64[ns]\n",
      "passenger_count          1387974 non-null int64\n",
      "trip_distance            1387974 non-null float64\n",
      "RatecodeID               1387974 non-null int64\n",
      "store_and_fwd_flag       1387974 non-null object\n",
      "PULocationID             1387974 non-null int64\n",
      "DOLocationID             1387974 non-null int64\n",
      "payment_type             1387974 non-null int64\n",
      "fare_amount              1387974 non-null float64\n",
      "extra                    1387974 non-null float64\n",
      "mta_tax                  1387974 non-null float64\n",
      "tip_amount               1387974 non-null float64\n",
      "tolls_amount             1387974 non-null float64\n",
      "improvement_surcharge    1387974 non-null float64\n",
      "total_amount             1387974 non-null float64\n",
      "Year                     1387974 non-null int64\n",
      "Month                    1387974 non-null int64\n",
      "Hour                     1387974 non-null int64\n",
      "minutes_trip             1387974 non-null int64\n",
      "weekday                  1387974 non-null int64\n",
      "PULocationID             1387974 non-null int64\n",
      "BoroughPU                1387974 non-null object\n",
      "dtypes: datetime64[ns](2), float64(8), int64(12), object(2)\n",
      "memory usage: 254.1+ MB\n",
      "None\n",
      "    extra  Hour  minutes_trip\n",
      "0     1.0     0            35\n",
      "1     1.0     1            24\n",
      "2     1.0     2            25\n",
      "3     1.0     3            22\n",
      "4     1.0     4            59\n",
      "5     1.0     5           110\n",
      "6     1.0     6           239\n",
      "7     1.0     7           334\n",
      "8     1.0     8           266\n",
      "9     1.0     9           150\n",
      "10    1.0    10           158\n",
      "11    1.0    11           178\n",
      "12    1.0    12           239\n",
      "13    1.0    13           445\n",
      "14    1.0    14           604\n",
      "15    1.0    15         17659\n",
      "16    1.0    16        276973\n",
      "17    1.0    17        333039\n",
      "18    1.0    18        388671\n",
      "19    1.0    19        363111\n",
      "20    1.0    20          5138\n",
      "21    1.0    21           234\n",
      "22    1.0    22           160\n",
      "23    1.0    23           101\n"
     ]
    }
   ],
   "source": [
    "manh_rush3 = PUboroughs[(PUboroughs.weekday != 5) & (PUboroughs.weekday != 6) & (PUboroughs.extra == 1.0)]\n",
    "manh_rush2 = manh_rush3.reset_index(drop=True)\n",
    "manh_rush2 = manh_rush2.drop(['Zone', 'service_zone', 'diff_time'], axis=1)\n",
    "print(manh_rush2.head())\n",
    "print(manh_rush2.info())\n",
    "rush_hour = manh_rush2.groupby(['extra', 'Hour']).minutes_trip.count().reset_index()\n",
    "print(rush_hour)"
   ]
  },
  {
   "cell_type": "markdown",
   "metadata": {},
   "source": [
    "Identified that evening rush hour are from 16 to 20. Take values between and only during working days."
   ]
  },
  {
   "cell_type": "code",
   "execution_count": 13,
   "metadata": {},
   "outputs": [
    {
     "name": "stdout",
     "output_type": "stream",
     "text": [
      "   VendorID tpep_pickup_datetime tpep_dropoff_datetime  passenger_count  \\\n",
      "0         1  2018-06-01 16:50:11   2018-06-01 17:32:11                2   \n",
      "1         1  2018-06-01 16:16:14   2018-06-01 16:20:33                1   \n",
      "2         1  2018-06-01 16:32:24   2018-06-01 16:49:43                1   \n",
      "3         1  2018-06-01 16:23:32   2018-06-01 16:44:39                1   \n",
      "4         2  2018-06-01 16:49:52   2018-06-01 17:04:59                1   \n",
      "\n",
      "   trip_distance  RatecodeID store_and_fwd_flag  PULocationID  DOLocationID  \\\n",
      "0           3.60           1                  N           230           144   \n",
      "1           0.60           1                  N           230            50   \n",
      "2           1.70           1                  N           230            90   \n",
      "3           1.20           1                  N           230           229   \n",
      "4           1.06           1                  N           230           163   \n",
      "\n",
      "   payment_type    ...      tip_amount  tolls_amount  improvement_surcharge  \\\n",
      "0             1    ...            6.00           0.0                    0.3   \n",
      "1             1    ...            1.26           0.0                    0.3   \n",
      "2             1    ...            1.50           0.0                    0.3   \n",
      "3             1    ...            0.00           0.0                    0.3   \n",
      "4             2    ...            0.00           0.0                    0.3   \n",
      "\n",
      "   total_amount  Year  Month  Hour  weekday  PULocationID  BoroughPU  \n",
      "0         33.80  2018      6    16        4           230  Manhattan  \n",
      "1          7.56  2018      6    16        4           230  Manhattan  \n",
      "2         15.30  2018      6    16        4           230  Manhattan  \n",
      "3         15.30  2018      6    16        4           230  Manhattan  \n",
      "4         11.80  2018      6    16        4           230  Manhattan  \n",
      "\n",
      "[5 rows x 23 columns]\n",
      "<class 'pandas.core.frame.DataFrame'>\n",
      "RangeIndex: 1361794 entries, 0 to 1361793\n",
      "Data columns (total 23 columns):\n",
      "VendorID                 1361794 non-null int64\n",
      "tpep_pickup_datetime     1361794 non-null datetime64[ns]\n",
      "tpep_dropoff_datetime    1361794 non-null datetime64[ns]\n",
      "passenger_count          1361794 non-null int64\n",
      "trip_distance            1361794 non-null float64\n",
      "RatecodeID               1361794 non-null int64\n",
      "store_and_fwd_flag       1361794 non-null object\n",
      "PULocationID             1361794 non-null int64\n",
      "DOLocationID             1361794 non-null int64\n",
      "payment_type             1361794 non-null int64\n",
      "fare_amount              1361794 non-null float64\n",
      "extra                    1361794 non-null float64\n",
      "mta_tax                  1361794 non-null float64\n",
      "tip_amount               1361794 non-null float64\n",
      "tolls_amount             1361794 non-null float64\n",
      "improvement_surcharge    1361794 non-null float64\n",
      "total_amount             1361794 non-null float64\n",
      "Year                     1361794 non-null int64\n",
      "Month                    1361794 non-null int64\n",
      "Hour                     1361794 non-null int64\n",
      "weekday                  1361794 non-null int64\n",
      "PULocationID             1361794 non-null int64\n",
      "BoroughPU                1361794 non-null object\n",
      "dtypes: datetime64[ns](2), float64(8), int64(11), object(2)\n",
      "memory usage: 239.0+ MB\n",
      "None\n"
     ]
    }
   ],
   "source": [
    "manh_rush1 = PUboroughs[(PUboroughs.Hour >= 16) & (PUboroughs.Hour < 20) \\\n",
    "                       & (PUboroughs.weekday != 5) & (PUboroughs.weekday != 6) & (PUboroughs.extra == 1.0)]\n",
    "manh_rush = manh_rush1.reset_index(drop=True)\n",
    "manh_rush = manh_rush.drop(['Zone', 'service_zone', 'diff_time', 'minutes_trip'], axis=1)\n",
    "print(manh_rush.head())\n",
    "print(manh_rush.info())"
   ]
  },
  {
   "cell_type": "markdown",
   "metadata": {},
   "source": [
    "There were 1,361,794 trips between 16 and 20 (rush hour) from Manhattan on working days in June. Given monthly budget of 6mln the amount of possible subsidies could be (6,000,000 / 1,361,794) = $4.40."
   ]
  },
  {
   "cell_type": "code",
   "execution_count": 14,
   "metadata": {
    "scrolled": true
   },
   "outputs": [
    {
     "name": "stdout",
     "output_type": "stream",
     "text": [
      "   Hour  total_amount\n",
      "0    16     17.067178\n",
      "1    17     16.611379\n",
      "2    18     15.683575\n",
      "3    19     15.067003\n"
     ]
    }
   ],
   "source": [
    "average_hour = manh_rush.groupby('Hour').total_amount.mean().reset_index()\n",
    "print(average_hour)"
   ]
  }
 ],
 "metadata": {
  "kernelspec": {
   "display_name": "Python 3",
   "language": "python",
   "name": "python3"
  },
  "language_info": {
   "codemirror_mode": {
    "name": "ipython",
    "version": 3
   },
   "file_extension": ".py",
   "mimetype": "text/x-python",
   "name": "python",
   "nbconvert_exporter": "python",
   "pygments_lexer": "ipython3",
   "version": "3.7.0"
  }
 },
 "nbformat": 4,
 "nbformat_minor": 2
}
